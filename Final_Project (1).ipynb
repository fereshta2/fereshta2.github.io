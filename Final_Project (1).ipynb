{
 "cells": [
  {
   "cell_type": "markdown",
   "metadata": {},
   "source": [
    "<h1 style=\"text-align: center;\">Predicting Student Success Using Behavioral and Academic Factors</h1>"
   ]
  },
  {
   "cell_type": "code",
   "execution_count": 99,
   "metadata": {},
   "outputs": [
    {
     "ename": "SyntaxError",
     "evalue": "invalid syntax (1227670295.py, line 1)",
     "output_type": "error",
     "traceback": [
      "\u001b[1;36m  Cell \u001b[1;32mIn[99], line 1\u001b[1;36m\u001b[0m\n\u001b[1;33m    <div style=\"text-align: center;\">\u001b[0m\n\u001b[1;37m    ^\u001b[0m\n\u001b[1;31mSyntaxError\u001b[0m\u001b[1;31m:\u001b[0m invalid syntax\n"
     ]
    }
   ],
   "source": [
    "<div style=\"text-align: center;\">\n",
    "<img src=\"https://assets.blogs.bsu.edu/wp-content/uploads/sites/38/2023/02/23145532/istockphoto-1214281726-612x612-1.jpg\" alt=\"Alt text\" width=\"600\">\n",
    "</div>\n",
    "\n",
    "\n",
    "## Spring 2025 Data Science Project  \n",
    "**Contributors:** Fereshta Mohammadi, Fakhreya Mohammadi\n",
    "\n",
    "---\n",
    "\n",
    "### Contributions\n",
    "\n",
    "- **Fereshta Mohammadi**\n",
    "  - **A. Project Idea:** Proposed the initial project idea and objective.\n",
    "  - **B. Dataset Curation and Preprocessing:** Handled missing values and outliers.\n",
    "  - **C. Data Exploration:** Created summary statistics and boxplots to detect and handle outliers.\n",
    "  - **D. ML Algorithm Design:** Implemented IQR method to handle outliers.\n",
    "  - **G. Final Report Creation:** Structured the notebook and added markdown explanations.   .\n",
    "    \n",
    "\n",
    "- **Fakhreya Mohammadi**\n",
    "  - **A. Project Idea:** Helped refine the project idea.\n",
    "  - **C. Data Exploration:** Created visualizations and interpreted patterns.\n",
    "  - **E. ML Training and Testing:** Evaluated models and analyzed performance.\n",
    "  - **F. Visualization & Conclusion:** Wrote the final analysis and insights.\n",
    "\n",
    "\n",
    "---\n"
   ]
  },
  {
   "cell_type": "markdown",
   "metadata": {},
   "source": [
    "## <span style=\"color:maroon\"><strong>Introduction</strong></span>  \n"
   ]
  },
  {
   "cell_type": "markdown",
   "metadata": {},
   "source": [
    "Achieving success in college is a crucial goal for students since it has a big impact on their future career opportunities and personal growth. The measurement of a student's success or performance is affected by the interaction of numerous factors and variables. Since there is a wide range of factors, it is very challenging to fully account for all the factors to measure a student's performance. However, some key behavioral and academic factors can help to analyze a student's performance and predict student outcomes based on them. This project investigates the factors such as study hours, attendance, access to resources, extracurricular activities, sleep hours, motivation level, and family income affecting student performance using machine learning and statistical analysis. Our project focuses on exploring what affects academic success among students.\n",
    "\n",
    "This project aims to address the following questions:\n",
    "- What key behavioral and academic factors most significantly influence student academic performance?\n",
    "- Can we predict student success academically using available features?\n",
    "  \n",
    "Answering these questions is important because student performance plays a critical role in shaping future academic, career, and life opportunities. Early identification of the factors that contribute to poor performance can help policymakers design better learning environments and reduce dropout rates. \n"
   ]
  },
  {
   "cell_type": "markdown",
   "metadata": {},
   "source": [
    "## <span style=\"color:maroon\"><strong>Data Curation</strong></span>  "
   ]
  },
  {
   "cell_type": "markdown",
   "metadata": {},
   "source": [
    "### Data Source"
   ]
  },
  {
   "cell_type": "markdown",
   "metadata": {},
   "source": [
    "The dataset used in this project is sourced from “Kaggle”.\n",
    "\n",
    "Link Address: <a href=\"https://www.kaggle.com/datasets/lainguyn123/student-performance-factors\" target=\"_blank\">Factors_Affecting_Student_Performance</a>\n",
    "\n",
    "It contains information on students’ academic behaviors and outcomes, including features like Hours_Studied, Attendance, Parental_Involvement, Access_to_Resources, Extracurricular_Activities, Sleep_Hours, Previous_Scores, Motivation_Level, Internet_Access, Tutoring_Sessions, Family_Income\t, Teacher_Quality, School_Type, Peer_Influence, Physical_Activity, Learning_Disabilities, Parental_Education_Level, Distance_from_Home, Gender, and Exam_Score.\n",
    "\n",
    "This dataset represents various factors that may influence student performance, including numeric and categorical data."
   ]
  },
  {
   "cell_type": "code",
   "execution_count": 86,
   "metadata": {
    "id": "odwHVwxoTF8h"
   },
   "outputs": [],
   "source": [
    "import pandas as pd\n",
    "import scipy.stats as stats\n",
    "import matplotlib.pyplot as plt\n",
    "from scipy.stats import ttest_ind\n"
   ]
  },
  {
   "cell_type": "code",
   "execution_count": 87,
   "metadata": {},
   "outputs": [
    {
     "data": {
      "text/html": [
       "<div>\n",
       "<style scoped>\n",
       "    .dataframe tbody tr th:only-of-type {\n",
       "        vertical-align: middle;\n",
       "    }\n",
       "\n",
       "    .dataframe tbody tr th {\n",
       "        vertical-align: top;\n",
       "    }\n",
       "\n",
       "    .dataframe thead th {\n",
       "        text-align: right;\n",
       "    }\n",
       "</style>\n",
       "<table border=\"1\" class=\"dataframe\">\n",
       "  <thead>\n",
       "    <tr style=\"text-align: right;\">\n",
       "      <th></th>\n",
       "      <th>Hours_Studied</th>\n",
       "      <th>Attendance</th>\n",
       "      <th>Parental_Involvement</th>\n",
       "      <th>Access_to_Resources</th>\n",
       "      <th>Extracurricular_Activities</th>\n",
       "      <th>Sleep_Hours</th>\n",
       "      <th>Previous_Scores</th>\n",
       "      <th>Motivation_Level</th>\n",
       "      <th>Internet_Access</th>\n",
       "      <th>Tutoring_Sessions</th>\n",
       "      <th>Family_Income</th>\n",
       "      <th>Teacher_Quality</th>\n",
       "      <th>School_Type</th>\n",
       "      <th>Peer_Influence</th>\n",
       "      <th>Physical_Activity</th>\n",
       "      <th>Learning_Disabilities</th>\n",
       "      <th>Parental_Education_Level</th>\n",
       "      <th>Distance_from_Home</th>\n",
       "      <th>Gender</th>\n",
       "      <th>Exam_Score</th>\n",
       "    </tr>\n",
       "  </thead>\n",
       "  <tbody>\n",
       "    <tr>\n",
       "      <th>0</th>\n",
       "      <td>23</td>\n",
       "      <td>84</td>\n",
       "      <td>Low</td>\n",
       "      <td>High</td>\n",
       "      <td>No</td>\n",
       "      <td>7</td>\n",
       "      <td>73</td>\n",
       "      <td>Low</td>\n",
       "      <td>Yes</td>\n",
       "      <td>0</td>\n",
       "      <td>Low</td>\n",
       "      <td>Medium</td>\n",
       "      <td>Public</td>\n",
       "      <td>Positive</td>\n",
       "      <td>3</td>\n",
       "      <td>No</td>\n",
       "      <td>High School</td>\n",
       "      <td>Near</td>\n",
       "      <td>Male</td>\n",
       "      <td>67</td>\n",
       "    </tr>\n",
       "    <tr>\n",
       "      <th>1</th>\n",
       "      <td>19</td>\n",
       "      <td>64</td>\n",
       "      <td>Low</td>\n",
       "      <td>Medium</td>\n",
       "      <td>No</td>\n",
       "      <td>8</td>\n",
       "      <td>59</td>\n",
       "      <td>Low</td>\n",
       "      <td>Yes</td>\n",
       "      <td>2</td>\n",
       "      <td>Medium</td>\n",
       "      <td>Medium</td>\n",
       "      <td>Public</td>\n",
       "      <td>Negative</td>\n",
       "      <td>4</td>\n",
       "      <td>No</td>\n",
       "      <td>College</td>\n",
       "      <td>Moderate</td>\n",
       "      <td>Female</td>\n",
       "      <td>61</td>\n",
       "    </tr>\n",
       "    <tr>\n",
       "      <th>2</th>\n",
       "      <td>24</td>\n",
       "      <td>98</td>\n",
       "      <td>Medium</td>\n",
       "      <td>Medium</td>\n",
       "      <td>Yes</td>\n",
       "      <td>7</td>\n",
       "      <td>91</td>\n",
       "      <td>Medium</td>\n",
       "      <td>Yes</td>\n",
       "      <td>2</td>\n",
       "      <td>Medium</td>\n",
       "      <td>Medium</td>\n",
       "      <td>Public</td>\n",
       "      <td>Neutral</td>\n",
       "      <td>4</td>\n",
       "      <td>No</td>\n",
       "      <td>Postgraduate</td>\n",
       "      <td>Near</td>\n",
       "      <td>Male</td>\n",
       "      <td>74</td>\n",
       "    </tr>\n",
       "    <tr>\n",
       "      <th>3</th>\n",
       "      <td>29</td>\n",
       "      <td>89</td>\n",
       "      <td>Low</td>\n",
       "      <td>Medium</td>\n",
       "      <td>Yes</td>\n",
       "      <td>8</td>\n",
       "      <td>98</td>\n",
       "      <td>Medium</td>\n",
       "      <td>Yes</td>\n",
       "      <td>1</td>\n",
       "      <td>Medium</td>\n",
       "      <td>Medium</td>\n",
       "      <td>Public</td>\n",
       "      <td>Negative</td>\n",
       "      <td>4</td>\n",
       "      <td>No</td>\n",
       "      <td>High School</td>\n",
       "      <td>Moderate</td>\n",
       "      <td>Male</td>\n",
       "      <td>71</td>\n",
       "    </tr>\n",
       "    <tr>\n",
       "      <th>4</th>\n",
       "      <td>19</td>\n",
       "      <td>92</td>\n",
       "      <td>Medium</td>\n",
       "      <td>Medium</td>\n",
       "      <td>Yes</td>\n",
       "      <td>6</td>\n",
       "      <td>65</td>\n",
       "      <td>Medium</td>\n",
       "      <td>Yes</td>\n",
       "      <td>3</td>\n",
       "      <td>Medium</td>\n",
       "      <td>High</td>\n",
       "      <td>Public</td>\n",
       "      <td>Neutral</td>\n",
       "      <td>4</td>\n",
       "      <td>No</td>\n",
       "      <td>College</td>\n",
       "      <td>Near</td>\n",
       "      <td>Female</td>\n",
       "      <td>70</td>\n",
       "    </tr>\n",
       "    <tr>\n",
       "      <th>...</th>\n",
       "      <td>...</td>\n",
       "      <td>...</td>\n",
       "      <td>...</td>\n",
       "      <td>...</td>\n",
       "      <td>...</td>\n",
       "      <td>...</td>\n",
       "      <td>...</td>\n",
       "      <td>...</td>\n",
       "      <td>...</td>\n",
       "      <td>...</td>\n",
       "      <td>...</td>\n",
       "      <td>...</td>\n",
       "      <td>...</td>\n",
       "      <td>...</td>\n",
       "      <td>...</td>\n",
       "      <td>...</td>\n",
       "      <td>...</td>\n",
       "      <td>...</td>\n",
       "      <td>...</td>\n",
       "      <td>...</td>\n",
       "    </tr>\n",
       "    <tr>\n",
       "      <th>6602</th>\n",
       "      <td>25</td>\n",
       "      <td>69</td>\n",
       "      <td>High</td>\n",
       "      <td>Medium</td>\n",
       "      <td>No</td>\n",
       "      <td>7</td>\n",
       "      <td>76</td>\n",
       "      <td>Medium</td>\n",
       "      <td>Yes</td>\n",
       "      <td>1</td>\n",
       "      <td>High</td>\n",
       "      <td>Medium</td>\n",
       "      <td>Public</td>\n",
       "      <td>Positive</td>\n",
       "      <td>2</td>\n",
       "      <td>No</td>\n",
       "      <td>High School</td>\n",
       "      <td>Near</td>\n",
       "      <td>Female</td>\n",
       "      <td>68</td>\n",
       "    </tr>\n",
       "    <tr>\n",
       "      <th>6603</th>\n",
       "      <td>23</td>\n",
       "      <td>76</td>\n",
       "      <td>High</td>\n",
       "      <td>Medium</td>\n",
       "      <td>No</td>\n",
       "      <td>8</td>\n",
       "      <td>81</td>\n",
       "      <td>Medium</td>\n",
       "      <td>Yes</td>\n",
       "      <td>3</td>\n",
       "      <td>Low</td>\n",
       "      <td>High</td>\n",
       "      <td>Public</td>\n",
       "      <td>Positive</td>\n",
       "      <td>2</td>\n",
       "      <td>No</td>\n",
       "      <td>High School</td>\n",
       "      <td>Near</td>\n",
       "      <td>Female</td>\n",
       "      <td>69</td>\n",
       "    </tr>\n",
       "    <tr>\n",
       "      <th>6604</th>\n",
       "      <td>20</td>\n",
       "      <td>90</td>\n",
       "      <td>Medium</td>\n",
       "      <td>Low</td>\n",
       "      <td>Yes</td>\n",
       "      <td>6</td>\n",
       "      <td>65</td>\n",
       "      <td>Low</td>\n",
       "      <td>Yes</td>\n",
       "      <td>3</td>\n",
       "      <td>Low</td>\n",
       "      <td>Medium</td>\n",
       "      <td>Public</td>\n",
       "      <td>Negative</td>\n",
       "      <td>2</td>\n",
       "      <td>No</td>\n",
       "      <td>Postgraduate</td>\n",
       "      <td>Near</td>\n",
       "      <td>Female</td>\n",
       "      <td>68</td>\n",
       "    </tr>\n",
       "    <tr>\n",
       "      <th>6605</th>\n",
       "      <td>10</td>\n",
       "      <td>86</td>\n",
       "      <td>High</td>\n",
       "      <td>High</td>\n",
       "      <td>Yes</td>\n",
       "      <td>6</td>\n",
       "      <td>91</td>\n",
       "      <td>High</td>\n",
       "      <td>Yes</td>\n",
       "      <td>2</td>\n",
       "      <td>Low</td>\n",
       "      <td>Medium</td>\n",
       "      <td>Private</td>\n",
       "      <td>Positive</td>\n",
       "      <td>3</td>\n",
       "      <td>No</td>\n",
       "      <td>High School</td>\n",
       "      <td>Far</td>\n",
       "      <td>Female</td>\n",
       "      <td>68</td>\n",
       "    </tr>\n",
       "    <tr>\n",
       "      <th>6606</th>\n",
       "      <td>15</td>\n",
       "      <td>67</td>\n",
       "      <td>Medium</td>\n",
       "      <td>Low</td>\n",
       "      <td>Yes</td>\n",
       "      <td>9</td>\n",
       "      <td>94</td>\n",
       "      <td>Medium</td>\n",
       "      <td>Yes</td>\n",
       "      <td>0</td>\n",
       "      <td>Medium</td>\n",
       "      <td>Medium</td>\n",
       "      <td>Public</td>\n",
       "      <td>Positive</td>\n",
       "      <td>4</td>\n",
       "      <td>No</td>\n",
       "      <td>Postgraduate</td>\n",
       "      <td>Near</td>\n",
       "      <td>Male</td>\n",
       "      <td>64</td>\n",
       "    </tr>\n",
       "  </tbody>\n",
       "</table>\n",
       "<p>6607 rows × 20 columns</p>\n",
       "</div>"
      ],
      "text/plain": [
       "      Hours_Studied  Attendance Parental_Involvement Access_to_Resources  \\\n",
       "0                23          84                  Low                High   \n",
       "1                19          64                  Low              Medium   \n",
       "2                24          98               Medium              Medium   \n",
       "3                29          89                  Low              Medium   \n",
       "4                19          92               Medium              Medium   \n",
       "...             ...         ...                  ...                 ...   \n",
       "6602             25          69                 High              Medium   \n",
       "6603             23          76                 High              Medium   \n",
       "6604             20          90               Medium                 Low   \n",
       "6605             10          86                 High                High   \n",
       "6606             15          67               Medium                 Low   \n",
       "\n",
       "     Extracurricular_Activities  Sleep_Hours  Previous_Scores  \\\n",
       "0                            No            7               73   \n",
       "1                            No            8               59   \n",
       "2                           Yes            7               91   \n",
       "3                           Yes            8               98   \n",
       "4                           Yes            6               65   \n",
       "...                         ...          ...              ...   \n",
       "6602                         No            7               76   \n",
       "6603                         No            8               81   \n",
       "6604                        Yes            6               65   \n",
       "6605                        Yes            6               91   \n",
       "6606                        Yes            9               94   \n",
       "\n",
       "     Motivation_Level Internet_Access  Tutoring_Sessions Family_Income  \\\n",
       "0                 Low             Yes                  0           Low   \n",
       "1                 Low             Yes                  2        Medium   \n",
       "2              Medium             Yes                  2        Medium   \n",
       "3              Medium             Yes                  1        Medium   \n",
       "4              Medium             Yes                  3        Medium   \n",
       "...               ...             ...                ...           ...   \n",
       "6602           Medium             Yes                  1          High   \n",
       "6603           Medium             Yes                  3           Low   \n",
       "6604              Low             Yes                  3           Low   \n",
       "6605             High             Yes                  2           Low   \n",
       "6606           Medium             Yes                  0        Medium   \n",
       "\n",
       "     Teacher_Quality School_Type Peer_Influence  Physical_Activity  \\\n",
       "0             Medium      Public       Positive                  3   \n",
       "1             Medium      Public       Negative                  4   \n",
       "2             Medium      Public        Neutral                  4   \n",
       "3             Medium      Public       Negative                  4   \n",
       "4               High      Public        Neutral                  4   \n",
       "...              ...         ...            ...                ...   \n",
       "6602          Medium      Public       Positive                  2   \n",
       "6603            High      Public       Positive                  2   \n",
       "6604          Medium      Public       Negative                  2   \n",
       "6605          Medium     Private       Positive                  3   \n",
       "6606          Medium      Public       Positive                  4   \n",
       "\n",
       "     Learning_Disabilities Parental_Education_Level Distance_from_Home  \\\n",
       "0                       No              High School               Near   \n",
       "1                       No                  College           Moderate   \n",
       "2                       No             Postgraduate               Near   \n",
       "3                       No              High School           Moderate   \n",
       "4                       No                  College               Near   \n",
       "...                    ...                      ...                ...   \n",
       "6602                    No              High School               Near   \n",
       "6603                    No              High School               Near   \n",
       "6604                    No             Postgraduate               Near   \n",
       "6605                    No              High School                Far   \n",
       "6606                    No             Postgraduate               Near   \n",
       "\n",
       "      Gender  Exam_Score  \n",
       "0       Male          67  \n",
       "1     Female          61  \n",
       "2       Male          74  \n",
       "3       Male          71  \n",
       "4     Female          70  \n",
       "...      ...         ...  \n",
       "6602  Female          68  \n",
       "6603  Female          69  \n",
       "6604  Female          68  \n",
       "6605  Female          68  \n",
       "6606    Male          64  \n",
       "\n",
       "[6607 rows x 20 columns]"
      ]
     },
     "execution_count": 87,
     "metadata": {},
     "output_type": "execute_result"
    }
   ],
   "source": [
    "df = pd.read_csv('StudentPerformanceFactors.csv')\n",
    "df"
   ]
  },
  {
   "cell_type": "markdown",
   "metadata": {},
   "source": [
    "### Feature Selection"
   ]
  },
  {
   "cell_type": "code",
   "execution_count": 88,
   "metadata": {},
   "outputs": [
    {
     "data": {
      "text/plain": [
       "(6607, 20)"
      ]
     },
     "execution_count": 88,
     "metadata": {},
     "output_type": "execute_result"
    }
   ],
   "source": [
    "df.shape"
   ]
  },
  {
   "cell_type": "markdown",
   "metadata": {},
   "source": [
    "Number of data points: 6607 \n",
    "\n",
    "The data set contains 6607 data points, and each data point represents a student in our dataset. We have a large number of data points which increases the statistical power of our analysis and makes our machine learning model more robust and reliable. \n",
    "\n",
    "Number of features: 20\n",
    "\n",
    "Our dataset contains 20 features which shows the amount of information collected for each data point in our dataset. Although more features provide deeper insights about our data, irrelevant or noisy features can also hurt our model performance and statistical analysis. For this reason, we have to implement feature selection. \n"
   ]
  },
  {
   "cell_type": "code",
   "execution_count": 89,
   "metadata": {},
   "outputs": [
    {
     "data": {
      "text/plain": [
       "Index(['Hours_Studied', 'Attendance', 'Parental_Involvement',\n",
       "       'Access_to_Resources', 'Extracurricular_Activities', 'Sleep_Hours',\n",
       "       'Previous_Scores', 'Motivation_Level', 'Internet_Access',\n",
       "       'Tutoring_Sessions', 'Family_Income', 'Teacher_Quality', 'School_Type',\n",
       "       'Peer_Influence', 'Physical_Activity', 'Learning_Disabilities',\n",
       "       'Parental_Education_Level', 'Distance_from_Home', 'Gender',\n",
       "       'Exam_Score'],\n",
       "      dtype='object')"
      ]
     },
     "execution_count": 89,
     "metadata": {},
     "output_type": "execute_result"
    }
   ],
   "source": [
    "df.columns"
   ]
  },
  {
   "cell_type": "code",
   "execution_count": 90,
   "metadata": {},
   "outputs": [
    {
     "name": "stdout",
     "output_type": "stream",
     "text": [
      "Hours_Studied                 41\n",
      "Attendance                    41\n",
      "Parental_Involvement           3\n",
      "Access_to_Resources            3\n",
      "Extracurricular_Activities     2\n",
      "Sleep_Hours                    7\n",
      "Previous_Scores               51\n",
      "Motivation_Level               3\n",
      "Internet_Access                2\n",
      "Tutoring_Sessions              9\n",
      "Family_Income                  3\n",
      "Teacher_Quality                3\n",
      "School_Type                    2\n",
      "Peer_Influence                 3\n",
      "Physical_Activity              7\n",
      "Learning_Disabilities          2\n",
      "Parental_Education_Level       3\n",
      "Distance_from_Home             3\n",
      "Gender                         2\n",
      "Exam_Score                    45\n",
      "dtype: int64\n"
     ]
    }
   ],
   "source": [
    "print(df.nunique())"
   ]
  },
  {
   "cell_type": "code",
   "execution_count": 91,
   "metadata": {},
   "outputs": [],
   "source": [
    "df = df.drop(['Parental_Involvement', 'Internet_Access', 'Teacher_Quality', 'Peer_Influence', 'Physical_Activity', 'Learning_Disabilities', 'Distance_from_Home', 'Gender', 'Parental_Education_Level'], axis=1)"
   ]
  },
  {
   "cell_type": "markdown",
   "metadata": {},
   "source": [
    "Based on the result of df.nunique(), the following features have very low variability:\n",
    "- Parental_Involvement (3 values)\n",
    "- Internet_Access (2 values)\n",
    "- Teacher_Quality (3 values)\n",
    "- Peer_Influence (3 values)\n",
    "- Physical_Activity (7 values)\n",
    "- Learning_Disabilities (2 values)\n",
    "- Distance_from_Home (3 values)\n",
    "- Gender (2 values)\n",
    "- Parental_Education_Level (3 values)\n",
    "\n",
    "Dropping these features are significant for two reasons:\n",
    "- These features are categorical and binary features in our dataset. They have very limited variation which can make them less useful for building a strong predictive model.\n",
    "- In addition some of these features like Gender, Internet_Access, and Learning_Disabilities might not show a statistically significant correlation with Exam_Score in our exploratory analysis.\n",
    "\n",
    "Therefore, dropping them simplifies the model and reduces the risk of overfitting due to noise or irrelavent variables."
   ]
  },
  {
   "cell_type": "markdown",
   "metadata": {},
   "source": [
    "### Data Transformation"
   ]
  },
  {
   "cell_type": "code",
   "execution_count": 92,
   "metadata": {},
   "outputs": [
    {
     "data": {
      "text/plain": [
       "Hours_Studied                  int64\n",
       "Attendance                     int64\n",
       "Access_to_Resources           object\n",
       "Extracurricular_Activities    object\n",
       "Sleep_Hours                    int64\n",
       "Previous_Scores                int64\n",
       "Motivation_Level              object\n",
       "Tutoring_Sessions              int64\n",
       "Family_Income                 object\n",
       "School_Type                   object\n",
       "Exam_Score                     int64\n",
       "dtype: object"
      ]
     },
     "execution_count": 92,
     "metadata": {},
     "output_type": "execute_result"
    }
   ],
   "source": [
    "df.dtypes"
   ]
  },
  {
   "cell_type": "code",
   "execution_count": 93,
   "metadata": {},
   "outputs": [],
   "source": [
    "for col in df.columns:\n",
    "    if df[col].dtype == 'int64':\n",
    "        df[col] = df[col].astype(float)"
   ]
  },
  {
   "cell_type": "code",
   "execution_count": 94,
   "metadata": {},
   "outputs": [
    {
     "data": {
      "text/plain": [
       "Hours_Studied                 float64\n",
       "Attendance                    float64\n",
       "Access_to_Resources            object\n",
       "Extracurricular_Activities     object\n",
       "Sleep_Hours                   float64\n",
       "Previous_Scores               float64\n",
       "Motivation_Level               object\n",
       "Tutoring_Sessions             float64\n",
       "Family_Income                  object\n",
       "School_Type                    object\n",
       "Exam_Score                    float64\n",
       "dtype: object"
      ]
     },
     "execution_count": 94,
     "metadata": {},
     "output_type": "execute_result"
    }
   ],
   "source": [
    "df.dtypes"
   ]
  },
  {
   "cell_type": "markdown",
   "metadata": {},
   "source": [
    "In order to prepare our data for analysis and machine learning model, we converted our numeric columns to float types. This is because float data types is more effective in tasks such as regression as our target variable, Exam_Score, is a continous variable."
   ]
  },
  {
   "cell_type": "markdown",
   "metadata": {},
   "source": [
    "### Detecting and Handling Outliers"
   ]
  },
  {
   "cell_type": "code",
   "execution_count": 95,
   "metadata": {},
   "outputs": [
    {
     "name": "stdout",
     "output_type": "stream",
     "text": [
      "       Hours_Studied   Attendance  Sleep_Hours  Previous_Scores  \\\n",
      "count    6607.000000  6607.000000   6607.00000      6607.000000   \n",
      "mean       19.975329    79.977448      7.02906        75.070531   \n",
      "std         5.990594    11.547475      1.46812        14.399784   \n",
      "min         1.000000    60.000000      4.00000        50.000000   \n",
      "25%        16.000000    70.000000      6.00000        63.000000   \n",
      "50%        20.000000    80.000000      7.00000        75.000000   \n",
      "75%        24.000000    90.000000      8.00000        88.000000   \n",
      "max        44.000000   100.000000     10.00000       100.000000   \n",
      "\n",
      "       Tutoring_Sessions   Exam_Score  \n",
      "count        6607.000000  6607.000000  \n",
      "mean            1.493719    67.235659  \n",
      "std             1.230570     3.890456  \n",
      "min             0.000000    55.000000  \n",
      "25%             1.000000    65.000000  \n",
      "50%             1.000000    67.000000  \n",
      "75%             2.000000    69.000000  \n",
      "max             8.000000   101.000000  \n"
     ]
    }
   ],
   "source": [
    "print(df.describe())"
   ]
  },
  {
   "cell_type": "code",
   "execution_count": 96,
   "metadata": {},
   "outputs": [
    {
     "data": {
      "image/png": "[encoded data removed]",
      "text/plain": [
       "<Figure size 600x200 with 1 Axes>"
      ]
     },
     "metadata": {},
     "output_type": "display_data"
    },
    {
     "data": {
      "image/png": "[encoded data removed]",
      "text/plain": [
       "<Figure size 600x200 with 1 Axes>"
      ]
     },
     "metadata": {},
     "output_type": "display_data"
    },
    {
     "data": {
      "image/png": "[encoded data removed]",
      "text/plain": [
       "<Figure size 600x200 with 1 Axes>"
      ]
     },
     "metadata": {},
     "output_type": "display_data"
    },
    {
     "data": {
      "image/png": "[encoded data removed]",
      "text/plain": [
       "<Figure size 600x200 with 1 Axes>"
      ]
     },
     "metadata": {},
     "output_type": "display_data"
    },
    {
     "data": {
      "image/png": "[encoded data removed]",
      "text/plain": [
       "<Figure size 600x200 with 1 Axes>"
      ]
     },
     "metadata": {},
     "output_type": "display_data"
    },
    {
     "data": {
      "image/png": "[encoded data removed]",
      "text/plain": [
       "<Figure size 600x200 with 1 Axes>"
      ]
     },
     "metadata": {},
     "output_type": "display_data"
    }
   ],
   "source": [
    "import seaborn as sns\n",
    "import matplotlib.pyplot as plt\n",
    "\n",
    "numeric_columns = df.select_dtypes(include=['float64']).columns\n",
    "for column in numeric_columns:\n",
    "    plt.figure(figsize=(6, 2))\n",
    "    sns.boxplot(x=df[column])\n",
    "    plt.title(f'Boxplot of {column}')\n",
    "    plt.show()\n"
   ]
  },
  {
   "cell_type": "markdown",
   "metadata": {},
   "source": [
    "We used box plots to detect outliers in our numeric columns visually. As can be observed, there are multiple outliers in several numeric columns in our dataset, like Hours_Studies, Tutoring_Sessions, and Exam_Score. These outliers can skew the analysis and affect the performance of machine learning models. \n",
    "\n",
    "In the next step, we will handle them appropriately using IQR technique."
   ]
  },
  {
   "cell_type": "code",
   "execution_count": 97,
   "metadata": {},
   "outputs": [
    {
     "data": {
      "text/html": [
       "<div>\n",
       "<style scoped>\n",
       "    .dataframe tbody tr th:only-of-type {\n",
       "        vertical-align: middle;\n",
       "    }\n",
       "\n",
       "    .dataframe tbody tr th {\n",
       "        vertical-align: top;\n",
       "    }\n",
       "\n",
       "    .dataframe thead th {\n",
       "        text-align: right;\n",
       "    }\n",
       "</style>\n",
       "<table border=\"1\" class=\"dataframe\">\n",
       "  <thead>\n",
       "    <tr style=\"text-align: right;\">\n",
       "      <th></th>\n",
       "      <th>Hours_Studied</th>\n",
       "      <th>Attendance</th>\n",
       "      <th>Access_to_Resources</th>\n",
       "      <th>Extracurricular_Activities</th>\n",
       "      <th>Sleep_Hours</th>\n",
       "      <th>Previous_Scores</th>\n",
       "      <th>Motivation_Level</th>\n",
       "      <th>Tutoring_Sessions</th>\n",
       "      <th>Family_Income</th>\n",
       "      <th>School_Type</th>\n",
       "      <th>Exam_Score</th>\n",
       "    </tr>\n",
       "  </thead>\n",
       "  <tbody>\n",
       "    <tr>\n",
       "      <th>0</th>\n",
       "      <td>23.0</td>\n",
       "      <td>84.0</td>\n",
       "      <td>High</td>\n",
       "      <td>No</td>\n",
       "      <td>7.0</td>\n",
       "      <td>73.0</td>\n",
       "      <td>Low</td>\n",
       "      <td>0.0</td>\n",
       "      <td>Low</td>\n",
       "      <td>Public</td>\n",
       "      <td>67.0</td>\n",
       "    </tr>\n",
       "    <tr>\n",
       "      <th>1</th>\n",
       "      <td>19.0</td>\n",
       "      <td>64.0</td>\n",
       "      <td>Medium</td>\n",
       "      <td>No</td>\n",
       "      <td>8.0</td>\n",
       "      <td>59.0</td>\n",
       "      <td>Low</td>\n",
       "      <td>2.0</td>\n",
       "      <td>Medium</td>\n",
       "      <td>Public</td>\n",
       "      <td>61.0</td>\n",
       "    </tr>\n",
       "    <tr>\n",
       "      <th>2</th>\n",
       "      <td>24.0</td>\n",
       "      <td>98.0</td>\n",
       "      <td>Medium</td>\n",
       "      <td>Yes</td>\n",
       "      <td>7.0</td>\n",
       "      <td>91.0</td>\n",
       "      <td>Medium</td>\n",
       "      <td>2.0</td>\n",
       "      <td>Medium</td>\n",
       "      <td>Public</td>\n",
       "      <td>74.0</td>\n",
       "    </tr>\n",
       "    <tr>\n",
       "      <th>3</th>\n",
       "      <td>29.0</td>\n",
       "      <td>89.0</td>\n",
       "      <td>Medium</td>\n",
       "      <td>Yes</td>\n",
       "      <td>8.0</td>\n",
       "      <td>98.0</td>\n",
       "      <td>Medium</td>\n",
       "      <td>1.0</td>\n",
       "      <td>Medium</td>\n",
       "      <td>Public</td>\n",
       "      <td>71.0</td>\n",
       "    </tr>\n",
       "    <tr>\n",
       "      <th>4</th>\n",
       "      <td>19.0</td>\n",
       "      <td>92.0</td>\n",
       "      <td>Medium</td>\n",
       "      <td>Yes</td>\n",
       "      <td>6.0</td>\n",
       "      <td>65.0</td>\n",
       "      <td>Medium</td>\n",
       "      <td>3.0</td>\n",
       "      <td>Medium</td>\n",
       "      <td>Public</td>\n",
       "      <td>70.0</td>\n",
       "    </tr>\n",
       "    <tr>\n",
       "      <th>...</th>\n",
       "      <td>...</td>\n",
       "      <td>...</td>\n",
       "      <td>...</td>\n",
       "      <td>...</td>\n",
       "      <td>...</td>\n",
       "      <td>...</td>\n",
       "      <td>...</td>\n",
       "      <td>...</td>\n",
       "      <td>...</td>\n",
       "      <td>...</td>\n",
       "      <td>...</td>\n",
       "    </tr>\n",
       "    <tr>\n",
       "      <th>6602</th>\n",
       "      <td>25.0</td>\n",
       "      <td>69.0</td>\n",
       "      <td>Medium</td>\n",
       "      <td>No</td>\n",
       "      <td>7.0</td>\n",
       "      <td>76.0</td>\n",
       "      <td>Medium</td>\n",
       "      <td>1.0</td>\n",
       "      <td>High</td>\n",
       "      <td>Public</td>\n",
       "      <td>68.0</td>\n",
       "    </tr>\n",
       "    <tr>\n",
       "      <th>6603</th>\n",
       "      <td>23.0</td>\n",
       "      <td>76.0</td>\n",
       "      <td>Medium</td>\n",
       "      <td>No</td>\n",
       "      <td>8.0</td>\n",
       "      <td>81.0</td>\n",
       "      <td>Medium</td>\n",
       "      <td>3.0</td>\n",
       "      <td>Low</td>\n",
       "      <td>Public</td>\n",
       "      <td>69.0</td>\n",
       "    </tr>\n",
       "    <tr>\n",
       "      <th>6604</th>\n",
       "      <td>20.0</td>\n",
       "      <td>90.0</td>\n",
       "      <td>Low</td>\n",
       "      <td>Yes</td>\n",
       "      <td>6.0</td>\n",
       "      <td>65.0</td>\n",
       "      <td>Low</td>\n",
       "      <td>3.0</td>\n",
       "      <td>Low</td>\n",
       "      <td>Public</td>\n",
       "      <td>68.0</td>\n",
       "    </tr>\n",
       "    <tr>\n",
       "      <th>6605</th>\n",
       "      <td>10.0</td>\n",
       "      <td>86.0</td>\n",
       "      <td>High</td>\n",
       "      <td>Yes</td>\n",
       "      <td>6.0</td>\n",
       "      <td>91.0</td>\n",
       "      <td>High</td>\n",
       "      <td>2.0</td>\n",
       "      <td>Low</td>\n",
       "      <td>Private</td>\n",
       "      <td>68.0</td>\n",
       "    </tr>\n",
       "    <tr>\n",
       "      <th>6606</th>\n",
       "      <td>15.0</td>\n",
       "      <td>67.0</td>\n",
       "      <td>Low</td>\n",
       "      <td>Yes</td>\n",
       "      <td>9.0</td>\n",
       "      <td>94.0</td>\n",
       "      <td>Medium</td>\n",
       "      <td>0.0</td>\n",
       "      <td>Medium</td>\n",
       "      <td>Public</td>\n",
       "      <td>64.0</td>\n",
       "    </tr>\n",
       "  </tbody>\n",
       "</table>\n",
       "<p>6607 rows × 11 columns</p>\n",
       "</div>"
      ],
      "text/plain": [
       "      Hours_Studied  Attendance Access_to_Resources  \\\n",
       "0              23.0        84.0                High   \n",
       "1              19.0        64.0              Medium   \n",
       "2              24.0        98.0              Medium   \n",
       "3              29.0        89.0              Medium   \n",
       "4              19.0        92.0              Medium   \n",
       "...             ...         ...                 ...   \n",
       "6602           25.0        69.0              Medium   \n",
       "6603           23.0        76.0              Medium   \n",
       "6604           20.0        90.0                 Low   \n",
       "6605           10.0        86.0                High   \n",
       "6606           15.0        67.0                 Low   \n",
       "\n",
       "     Extracurricular_Activities  Sleep_Hours  Previous_Scores  \\\n",
       "0                            No          7.0             73.0   \n",
       "1                            No          8.0             59.0   \n",
       "2                           Yes          7.0             91.0   \n",
       "3                           Yes          8.0             98.0   \n",
       "4                           Yes          6.0             65.0   \n",
       "...                         ...          ...              ...   \n",
       "6602                         No          7.0             76.0   \n",
       "6603                         No          8.0             81.0   \n",
       "6604                        Yes          6.0             65.0   \n",
       "6605                        Yes          6.0             91.0   \n",
       "6606                        Yes          9.0             94.0   \n",
       "\n",
       "     Motivation_Level  Tutoring_Sessions Family_Income School_Type  Exam_Score  \n",
       "0                 Low                0.0           Low      Public        67.0  \n",
       "1                 Low                2.0        Medium      Public        61.0  \n",
       "2              Medium                2.0        Medium      Public        74.0  \n",
       "3              Medium                1.0        Medium      Public        71.0  \n",
       "4              Medium                3.0        Medium      Public        70.0  \n",
       "...               ...                ...           ...         ...         ...  \n",
       "6602           Medium                1.0          High      Public        68.0  \n",
       "6603           Medium                3.0           Low      Public        69.0  \n",
       "6604              Low                3.0           Low      Public        68.0  \n",
       "6605             High                2.0           Low     Private        68.0  \n",
       "6606           Medium                0.0        Medium      Public        64.0  \n",
       "\n",
       "[6607 rows x 11 columns]"
      ]
     },
     "metadata": {},
     "output_type": "display_data"
    }
   ],
   "source": [
    "\n",
    "def detect_outliers(df, column):\n",
    "    Q1 = df[column].quantile(0.25)\n",
    "    Q3 = df[column].quantile(0.75)\n",
    "    IQR = Q3 - Q1\n",
    "    lower_bound = Q1 - 1.5 * IQR\n",
    "    upper_bound = Q3 + 1.5 * IQR\n",
    "    \n",
    "    outliers = df[(df[column] < lower_bound) | (df[column] > upper_bound)]\n",
    "    return outliers, lower_bound, upper_bound\n",
    "\n",
    "for numeric_column in numeric_columns:\n",
    "    outliers, lower_bound, upper_bound = detect_outliers(df, numeric_column)\n",
    "        \n",
    "    median_value = df[numeric_column].median()\n",
    "    df[numeric_column] = df[numeric_column].apply(lambda x: median_value if x < lower_bound or x > upper_bound else x)\n",
    "\n",
    "display(df)\n"
   ]
  },
  {
   "cell_type": "markdown",
   "metadata": {},
   "source": [
    "The Interquartile Range or IQR technique helps us to identify and handle outliers, data points that significantly deviate from the majority of the data in a dataset. To mark the area or range where most of our data falls, we use the 25th percentile (Q1) and the 75th percentile (Q3)of the data. By calculating the difference between Q3 and Q1, we get a sense of how spread out this middle portion is. To identify outliers, we extend this range by multiplying the IQR by 1.5. Any data point that falls below Q1-1.5 × IQR or above Q3 + 1.5 × IQR is considered an outlier because it lies unusually far from the center of the data. Then we replaced the detected outlier values with the median of the column. \n"
   ]
  },
  {
   "cell_type": "markdown",
   "metadata": {},
   "source": [
    "### Handling Missing Values"
   ]
  },
  {
   "cell_type": "code",
   "execution_count": 340,
   "metadata": {},
   "outputs": [
    {
     "name": "stdout",
     "output_type": "stream",
     "text": [
      "Hours_Studied                 0\n",
      "Attendance                    0\n",
      "Access_to_Resources           0\n",
      "Extracurricular_Activities    0\n",
      "Sleep_Hours                   0\n",
      "Previous_Scores               0\n",
      "Motivation_Level              0\n",
      "Tutoring_Sessions             0\n",
      "Family_Income                 0\n",
      "School_Type                   0\n",
      "Exam_Score                    0\n",
      "dtype: int64\n"
     ]
    }
   ],
   "source": [
    "print(df.isnull().sum())"
   ]
  },
  {
   "cell_type": "markdown",
   "metadata": {},
   "source": [
    "Before proceeding with data analsis, we checked the dataset for any missing values using methods like `.isnull().sum()`. The results we found show that there are no missing values in any of the columns. This ensures that our dataset is complete and does not require any imputation or removal of rows due to missing data.\n"
   ]
  },
  {
   "cell_type": "markdown",
   "metadata": {},
   "source": [
    "## Exploratory data analysis"
   ]
  },
  {
   "cell_type": "markdown",
   "metadata": {},
   "source": [
    "### Relationship between Behavioral Factors and Student Performance"
   ]
  },
  {
   "cell_type": "markdown",
   "metadata": {},
   "source": [
    "Hypothesis Test 1: Does Sleep Duration Affect Final Grade?"
   ]
  },
  {
   "cell_type": "code",
   "execution_count": 341,
   "metadata": {},
   "outputs": [
    {
     "name": "stdout",
     "output_type": "stream",
     "text": [
      "P-value: 0.42413327704298764\n"
     ]
    }
   ],
   "source": [
    "from scipy.stats import ttest_ind\n",
    "\n",
    "median_hours = df['Sleep_Hours'].median()\n",
    "\n",
    "group_high = df[df['Sleep_Hours'] > median_hours]['Exam_Score']\n",
    "group_low = df[df['Sleep_Hours'] <= median_hours]['Exam_Score']\n",
    "\n",
    "result = ttest_ind(group_high, group_low, equal_var=False)\n",
    "print(\"P-value:\", result.pvalue)\n"
   ]
  },
  {
   "cell_type": "markdown",
   "metadata": {},
   "source": [
    "Hypothesis Test 2: Does Social Media Usage Affect Final Grade?"
   ]
  },
  {
   "cell_type": "code",
   "execution_count": 199,
   "metadata": {},
   "outputs": [
    {
     "name": "stdout",
     "output_type": "stream",
     "text": [
      "Hypothesis Test 2: Social Media Usage vs Final Grade\n",
      "H₀: All grade groups have equal mean social media time\n",
      "H₁: At least one group differs\n",
      "F-statistic = 0.722, p-value = 0.5385\n",
      "Fail to reject H₀ — No significant difference\n"
     ]
    }
   ],
   "source": [
    "print(\"Hypothesis Test 2: Social Media Usage vs Final Grade\")\n",
    "social_groups = [group['Time_Spent_on_Social_Media (hours/week)'] for _, group in df.groupby('Final_Grade')]\n",
    "f_stat, p_val = f_oneway(*social_groups)\n",
    "print(\"H₀: All grade groups have equal mean social media time\")\n",
    "print(\"H₁: At least one group differs\")\n",
    "print(f\"F-statistic = {f_stat:.3f}, p-value = {p_val:.4f}\")\n",
    "\n",
    "if p_val < 0.05:\n",
    "    print(\"Reject H₀ — Social media use differs by grade\")\n",
    "else:\n",
    "    print(\"Fail to reject H₀ — No significant difference\")"
   ]
  },
  {
   "cell_type": "markdown",
   "metadata": {},
   "source": [
    "Hypothesis Test 3: Does Stress Level Affect Final Grade?"
   ]
  },
  {
   "cell_type": "code",
   "execution_count": 200,
   "metadata": {},
   "outputs": [
    {
     "name": "stdout",
     "output_type": "stream",
     "text": [
      "P-value: 0.04830375393376063\n"
     ]
    }
   ],
   "source": [
    "from scipy.stats import ttest_ind\n",
    "\n",
    "median_hours = df['Sleep_Hours_per_Night'].median()\n",
    "\n",
    "group_high = df[df['Sleep_Hours_per_Night'] > median_hours]['Final_Grade_Numeric']\n",
    "group_low = df[df['Sleep_Hours_per_Night'] <= median_hours]['Final_Grade_Numeric']\n",
    "\n",
    "result = ttest_ind(group_high, group_low, equal_var=False)\n",
    "print(\"P-value:\", result.pvalue)"
   ]
  },
  {
   "cell_type": "markdown",
   "metadata": {},
   "source": [
    "### Relationship between Academic Factors and Student Performance"
   ]
  },
  {
   "cell_type": "markdown",
   "metadata": {},
   "source": [
    "Study_Hours_per_Week vs Final_Grade (ANOVA)"
   ]
  },
  {
   "cell_type": "code",
   "execution_count": 201,
   "metadata": {},
   "outputs": [
    {
     "name": "stdout",
     "output_type": "stream",
     "text": [
      "\n",
      "🧠 Study_Hours_per_Week vs Final_Grade (ANOVA)\n",
      "H₀: μ_A = μ_B = μ_C = μ_D (Mean study hours are equal)\n",
      "H₁: At least one group mean is different\n",
      "F-statistic = 0.112, p-value = 0.9529\n",
      "❌ Fail to reject H₀ — No significant difference in study hours\n"
     ]
    }
   ],
   "source": [
    "from scipy.stats import f_oneway\n",
    "\n",
    "print(\"\\n🧠 Study_Hours_per_Week vs Final_Grade (ANOVA)\")\n",
    "groups = [group['Study_Hours_per_Week'] for _, group in df.groupby('Final_Grade')]\n",
    "\n",
    "f_stat, p_val = f_oneway(*groups)\n",
    "\n",
    "print(\"H₀: μ_A = μ_B = μ_C = μ_D (Mean study hours are equal)\")\n",
    "print(\"H₁: At least one group mean is different\")\n",
    "print(f\"F-statistic = {f_stat:.3f}, p-value = {p_val:.4f}\")\n",
    "\n",
    "if p_val < 0.05:\n",
    "    print(\"✅ Reject H₀ — Study hours differ across Final_Grade groups\")\n",
    "else:\n",
    "    print(\"❌ Fail to reject H₀ — No significant difference in study hours\")\n"
   ]
  },
  {
   "cell_type": "markdown",
   "metadata": {},
   "source": [
    "Assignment_Completion_Rate (%) vs Final_Grade (ANOVA)"
   ]
  },
  {
   "cell_type": "code",
   "execution_count": 202,
   "metadata": {},
   "outputs": [
    {
     "name": "stdout",
     "output_type": "stream",
     "text": [
      "\n",
      "✍️ Assignment_Completion_Rate (%) vs Final_Grade (ANOVA)\n",
      "H₀: μ_A = μ_B = μ_C = μ_D (Completion rates are equal)\n",
      "H₁: At least one group has a different mean completion rate\n",
      "F = 1.098, p = 0.3484\n",
      "❌ Fail to reject H₀ — No significant difference\n"
     ]
    }
   ],
   "source": [
    "print(\"\\n✍️ Assignment_Completion_Rate (%) vs Final_Grade (ANOVA)\")\n",
    "groups = [group['Assignment_Completion_Rate (%)'] for _, group in df.groupby('Final_Grade')]\n",
    "\n",
    "f_stat, p_val = f_oneway(*groups)\n",
    "\n",
    "print(\"H₀: μ_A = μ_B = μ_C = μ_D (Completion rates are equal)\")\n",
    "print(\"H₁: At least one group has a different mean completion rate\")\n",
    "print(f\"F = {f_stat:.3f}, p = {p_val:.4f}\")\n",
    "\n",
    "if p_val < 0.05:\n",
    "    print(\"✅ Reject H₀ — Assignment completion differs by grade\")\n",
    "else:\n",
    "    print(\"❌ Fail to reject H₀ — No significant difference\")\n"
   ]
  },
  {
   "cell_type": "markdown",
   "metadata": {},
   "source": [
    "Exam_Score (%) vs Final_Grade (ANOVA)"
   ]
  },
  {
   "cell_type": "code",
   "execution_count": 203,
   "metadata": {},
   "outputs": [
    {
     "name": "stdout",
     "output_type": "stream",
     "text": [
      "\n",
      "📝 Exam_Score (%) vs Final_Grade (ANOVA)\n",
      "H₀: μ_A = μ_B = μ_C = μ_D (Mean exam scores are equal)\n",
      "H₁: At least one group has different mean exam score\n",
      "F = 49633.867, p = 0.0000\n",
      "✅ Reject H₀ — Exam scores significantly differ by grade\n"
     ]
    }
   ],
   "source": [
    "print(\"\\n📝 Exam_Score (%) vs Final_Grade (ANOVA)\")\n",
    "groups = [group['Exam_Score (%)'] for _, group in df.groupby('Final_Grade')]\n",
    "\n",
    "f_stat, p_val = f_oneway(*groups)\n",
    "\n",
    "print(\"H₀: μ_A = μ_B = μ_C = μ_D (Mean exam scores are equal)\")\n",
    "print(\"H₁: At least one group has different mean exam score\")\n",
    "print(f\"F = {f_stat:.3f}, p = {p_val:.4f}\")\n",
    "\n",
    "if p_val < 0.05:\n",
    "    print(\"✅ Reject H₀ — Exam scores significantly differ by grade\")\n",
    "else:\n",
    "    print(\"❌ Fail to reject H₀ — No significant difference in exam scores\")\n"
   ]
  },
  {
   "cell_type": "markdown",
   "metadata": {},
   "source": [
    "Attendance_Rate (%) vs Final_Grade (ANOVA)"
   ]
  },
  {
   "cell_type": "code",
   "execution_count": 204,
   "metadata": {},
   "outputs": [
    {
     "name": "stdout",
     "output_type": "stream",
     "text": [
      "\n",
      "🏫 Attendance_Rate (%) vs Final_Grade (ANOVA)\n",
      "H₀: μ_A = μ_B = μ_C = μ_D (Attendance is equal)\n",
      "H₁: At least one group differs\n",
      "F = 0.452, p = 0.7161\n",
      "❌ Fail to reject H₀ — No significant difference in attendance\n"
     ]
    }
   ],
   "source": [
    "print(\"\\n🏫 Attendance_Rate (%) vs Final_Grade (ANOVA)\")\n",
    "groups = [group['Attendance_Rate (%)'] for _, group in df.groupby('Final_Grade')]\n",
    "\n",
    "f_stat, p_val = f_oneway(*groups)\n",
    "\n",
    "print(\"H₀: μ_A = μ_B = μ_C = μ_D (Attendance is equal)\")\n",
    "print(\"H₁: At least one group differs\")\n",
    "print(f\"F = {f_stat:.3f}, p = {p_val:.4f}\")\n",
    "\n",
    "if p_val < 0.05:\n",
    "    print(\"✅ Reject H₀ — Attendance differs across Final_Grade\")\n",
    "else:\n",
    "    print(\"❌ Fail to reject H₀ — No significant difference in attendance\")\n"
   ]
  },
  {
   "cell_type": "markdown",
   "metadata": {},
   "source": [
    "Participation_in_Discussions vs Final_Grade (Chi-Square)"
   ]
  },
  {
   "cell_type": "code",
   "execution_count": 210,
   "metadata": {},
   "outputs": [
    {
     "data": {
      "text/html": [
       "<div>\n",
       "<style scoped>\n",
       "    .dataframe tbody tr th:only-of-type {\n",
       "        vertical-align: middle;\n",
       "    }\n",
       "\n",
       "    .dataframe tbody tr th {\n",
       "        vertical-align: top;\n",
       "    }\n",
       "\n",
       "    .dataframe thead th {\n",
       "        text-align: right;\n",
       "    }\n",
       "</style>\n",
       "<table border=\"1\" class=\"dataframe\">\n",
       "  <thead>\n",
       "    <tr style=\"text-align: right;\">\n",
       "      <th>Final_Grade</th>\n",
       "      <th>A</th>\n",
       "      <th>B</th>\n",
       "      <th>C</th>\n",
       "      <th>D</th>\n",
       "    </tr>\n",
       "    <tr>\n",
       "      <th>Participation_in_Discussions</th>\n",
       "      <th></th>\n",
       "      <th></th>\n",
       "      <th></th>\n",
       "      <th></th>\n",
       "    </tr>\n",
       "  </thead>\n",
       "  <tbody>\n",
       "    <tr>\n",
       "      <th>No</th>\n",
       "      <td>1062</td>\n",
       "      <td>997</td>\n",
       "      <td>971</td>\n",
       "      <td>974</td>\n",
       "    </tr>\n",
       "    <tr>\n",
       "      <th>Yes</th>\n",
       "      <td>1616</td>\n",
       "      <td>1458</td>\n",
       "      <td>1469</td>\n",
       "      <td>1453</td>\n",
       "    </tr>\n",
       "  </tbody>\n",
       "</table>\n",
       "</div>"
      ],
      "text/plain": [
       "Final_Grade                      A     B     C     D\n",
       "Participation_in_Discussions                        \n",
       "No                            1062   997   971   974\n",
       "Yes                           1616  1458  1469  1453"
      ]
     },
     "metadata": {},
     "output_type": "display_data"
    },
    {
     "data": {
      "image/png": "[encoded data removed]",
      "text/plain": [
       "<Figure size 640x480 with 1 Axes>"
      ]
     },
     "metadata": {},
     "output_type": "display_data"
    },
    {
     "name": "stdout",
     "output_type": "stream",
     "text": [
      "P-value: 0.903948149920766\n"
     ]
    }
   ],
   "source": [
    "from scipy.stats import chi2_contingency\n",
    "\n",
    "contingency_table = pd.crosstab(df[\"Participation_in_Discussions\"], df[\"Final_Grade\"])\n",
    "display(contingency_table)\n",
    "\n",
    "\n",
    "contingency_table.plot(kind='bar')\n",
    "plt.xlabel('Final Grade')\n",
    "plt.ylabel('Number of Students')\n",
    "plt.title('Comparison of Final Grades by Participation_in_Discussions')\n",
    "plt.show()\n",
    "\n",
    "result = chi2_contingency(contingency_table)\n",
    "p_value = result.pvalue\n",
    "print(f\"P-value: {p_value}\")\n"
   ]
  },
  {
   "cell_type": "markdown",
   "metadata": {},
   "source": [
    "## Primary analysis"
   ]
  },
  {
   "cell_type": "code",
   "execution_count": 355,
   "metadata": {},
   "outputs": [],
   "source": [
    "import pandas as pd\n",
    "from sklearn.model_selection import train_test_split\n",
    "from sklearn.preprocessing import LabelEncoder, StandardScaler\n",
    "from sklearn.linear_model import LinearRegression\n",
    "from sklearn.tree import DecisionTreeRegressor\n",
    "from sklearn.ensemble import RandomForestRegressor\n",
    "from sklearn.metrics import mean_squared_error, r2_score\n",
    "\n",
    "# --- Load your dataset ---\n",
    "# df = pd.read_csv(\"your_file.csv\")\n",
    "\n",
    "# --- Encode categorical variables ---\n",
    "df_encoded = df.copy()\n",
    "label_cols = df.select_dtypes(include='object').columns\n",
    "\n",
    "label_encoders = {}\n",
    "for col in label_cols:\n",
    "    le = LabelEncoder()\n",
    "    df_encoded[col] = le.fit_transform(df_encoded[col])\n",
    "    label_encoders[col] = le\n",
    "\n",
    "# --- Define features and target ---\n",
    "X = df_encoded.drop(columns=['Exam_Score'])\n",
    "y = df_encoded['Exam_Score']\n",
    "\n",
    "# --- Scale numeric features ---\n",
    "scaler = StandardScaler()\n",
    "X_scaled = scaler.fit_transform(X)\n",
    "\n",
    "# --- Train/test split ---\n",
    "X_train, X_test, y_train, y_test = train_test_split(X_scaled, y, test_size=0.25, random_state=42)\n"
   ]
  },
  {
   "cell_type": "code",
   "execution_count": 356,
   "metadata": {},
   "outputs": [
    {
     "name": "stdout",
     "output_type": "stream",
     "text": [
      "\n",
      "📊 Linear Regression:\n",
      "RMSE: 2.1512158323273978\n",
      "R²: 0.6602378541011653\n"
     ]
    }
   ],
   "source": [
    "from sklearn.metrics import mean_squared_error, r2_score\n",
    "import numpy as np\n",
    "\n",
    "# For Linear Regression\n",
    "rmse_lr = np.sqrt(mean_squared_error(y_test, y_pred_lr))\n",
    "r2_lr = r2_score(y_test, y_pred_lr)\n",
    "\n",
    "print(\"\\n📊 Linear Regression:\")\n",
    "print(\"RMSE:\", rmse_lr)\n",
    "print(\"R²:\", r2_lr)\n"
   ]
  },
  {
   "cell_type": "code",
   "execution_count": null,
   "metadata": {},
   "outputs": [],
   "source": []
  }
 ],
 "metadata": {
  "colab": {
   "provenance": []
  },
  "kernelspec": {
   "display_name": "Python 3 (ipykernel)",
   "language": "python",
   "name": "python3"
  },
  "language_info": {
   "codemirror_mode": {
    "name": "ipython",
    "version": 3
   },
   "file_extension": ".py",
   "mimetype": "text/x-python",
   "name": "python",
   "nbconvert_exporter": "python",
   "pygments_lexer": "ipython3",
   "version": "3.13.2"
  }
 },
 "nbformat": 4,
 "nbformat_minor": 4
}
